{
 "cells": [
  {
   "cell_type": "code",
   "execution_count": 2,
   "metadata": {},
   "outputs": [],
   "source": [
    "import pandas as pd"
   ]
  },
  {
   "cell_type": "code",
   "execution_count": 3,
   "metadata": {},
   "outputs": [],
   "source": [
    "# Dados Prefeito\n",
    "\n",
    "dados_municipais = pd.read_csv(r\"/home/sposigor/Downloads/dados_tse/prefeito.csv\", sep=\",\", low_memory=True)\n",
    "\n",
    "lista_dropna = [\"NOME_CANDIDATO\", \"NUMERO_PARTIDO\", \"DATA_NASCIMENTO\"]\n",
    "\n",
    "for x in lista_dropna:\n",
    "    dados_municipais.dropna(subset=[x], inplace=True)\n",
    "\n",
    "dados_municipais.loc[dados_municipais[\"DESCRICAO_COR_RACA\"] == \"#NE#\", \"DESCRICAO_COR_RACA\"] = \"NÃO INFORMADO\"\n",
    "dados_municipais.loc[dados_municipais[\"NUM_TURNO\"] == 1, \"NUM_TURNO\"] = \"PRIMEIRO TURNO\"\n",
    "dados_municipais.loc[dados_municipais[\"NUM_TURNO\"] == 2, \"NUM_TURNO\"] = \"SEGUNDO TURNO\"\n",
    "dados_municipais[\"NOME_MUNICIPIO\"] = dados_municipais[\"NOME_MUNICIPIO\"].str.title()\n",
    "\n",
    "dados_municipais.drop([\"NUMERO_CANDIDATO\", \"CPF_CANDIDATO\", \"NUMERO_PARTIDO\", \"NUM_TITULO_ELEITORAL_CANDIDATO\", \"COD_MUN_IBGE\"], axis=1)\n",
    "\n",
    "dados_municipais.to_csv(\"dados/prefeito_ajustado.csv\", sep=\",\")\n"
   ]
  },
  {
   "cell_type": "code",
   "execution_count": 3,
   "metadata": {},
   "outputs": [],
   "source": [
    "# Dados federais menos presidente\n",
    "\n",
    "dados_federais = pd.read_csv(r\"/home/sposigor/Downloads/dados_tse/federal_menos_presidente.csv\", sep=\",\")\n",
    "\n",
    "lista_dropna = [\"NOME_CANDIDATO\", \"NUMERO_PARTIDO\", \"DATA_NASCIMENTO\"]\n",
    "\n",
    "for x in lista_dropna:\n",
    "    dados_federais.dropna(subset=[x], inplace=True)\n",
    "\n",
    "lista_cor_ajustar = [\"nan\", \"#NE#\"]\n",
    "\n",
    "dados_federais.loc[dados_federais[\"NUM_TURNO\"] == 1, \"NUM_TURNO\"] = \"PRIMEIRO TURNO\"\n",
    "dados_federais.loc[dados_federais[\"NUM_TURNO\"] == 2, \"NUM_TURNO\"] = \"SEGUNDO TURNO\"\n",
    "\n",
    "for i in lista_cor_ajustar:\n",
    "    dados_federais.loc[dados_federais[\"DESCRICAO_COR_RACA\"] == i, \"DESCRICAO_COR_RACA\"] = \"NÃO INFORMADO\"\n",
    "\n",
    "dados_federais.drop([\"NUMERO_CANDIDATO\", \"CPF_CANDIDATO\", \"NUMERO_PARTIDO\", \"NUM_TITULO_ELEITORAL_CANDIDATO\"], axis=1)\n",
    "\n",
    "dados_federais.to_csv(\"dados/federal_ajustado.csv\", sep=\",\")\n"
   ]
  },
  {
   "cell_type": "code",
   "execution_count": 5,
   "metadata": {},
   "outputs": [],
   "source": [
    "# Dados presidenciais\n",
    "\n",
    "dados_presidente = pd.read_csv(r\"/home/sposigor/Downloads/dados_tse/presidente.csv\", sep=\",\")\n",
    "\n",
    "dados_presidente.loc[dados_presidente[\"DESCRICAO_COR_RACA\"] == \"#NE#\", \"DESCRICAO_COR_RACA\"] = \"NÃO INFORMADO\"\n",
    "dados_presidente.loc[dados_presidente[\"NUM_TURNO\"] == 1, \"NUM_TURNO\"] = \"PRIMEIRO TURNO\"\n",
    "dados_presidente.loc[dados_presidente[\"NUM_TURNO\"] == 2, \"NUM_TURNO\"] = \"SEGUNDO TURNO\"\n",
    "\n",
    "dados_presidente.to_csv(\"dados/presidente_ajustado.csv\", sep=\",\")"
   ]
  },
  {
   "cell_type": "code",
   "execution_count": null,
   "metadata": {},
   "outputs": [],
   "source": []
  }
 ],
 "metadata": {
  "interpreter": {
   "hash": "9df91769fbae1ccc10c67398c31cdf5517c78aac96d0071e53bc9d547a05fa72"
  },
  "kernelspec": {
   "display_name": "Python 3.10.2 ('eleicoes-4DOkQnK4-py3.10')",
   "language": "python",
   "name": "python3"
  },
  "language_info": {
   "codemirror_mode": {
    "name": "ipython",
    "version": 3
   },
   "file_extension": ".py",
   "mimetype": "text/x-python",
   "name": "python",
   "nbconvert_exporter": "python",
   "pygments_lexer": "ipython3",
   "version": "3.10.2"
  },
  "orig_nbformat": 4
 },
 "nbformat": 4,
 "nbformat_minor": 2
}
