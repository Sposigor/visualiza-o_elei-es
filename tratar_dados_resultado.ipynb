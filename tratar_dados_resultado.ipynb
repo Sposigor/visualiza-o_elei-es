{
 "cells": [
  {
   "cell_type": "markdown",
   "metadata": {},
   "source": [
    "## Tratar os dados do TSE dos resultados\n",
    "\n",
    "### fonte: https://dadosabertos.tse.jus.br/organization/tse-agel?groups=resultados\n",
    "\n",
    "* Usei os dados a partir de 1998 até 2020."
   ]
  },
  {
   "cell_type": "code",
   "execution_count": 1,
   "metadata": {},
   "outputs": [],
   "source": [
    "import pandas as pd\n",
    "import glob"
   ]
  },
  {
   "cell_type": "code",
   "execution_count": 7,
   "metadata": {},
   "outputs": [],
   "source": [
    "# Arquivos csv originais do TSE nos anos das eleições municipais são muito pesados para meu note roda em um laço\n",
    "# Optei em ajustar um por um para reduzir a quantidade de colunas e reduzir o tamanho dos arquivos\n",
    "# O periodo de 1998 a 2008 está sem cabeçalho nos dados e adicionei conforme as intruções da documentação do TSE\n",
    "\n",
    "\n",
    "colunas_para_o_projeto = [\"ANO_ELEICAO\", \"NR_TURNO\", \"NM_CANDIDATO\", \"QT_VOTOS_NOMINAIS\"]\n",
    "\n",
    "\n",
    "df = pd.read_csv(r\"/home/sposigor/Downloads/TSE/resultado/dados_sem_tratamento/2008.csv\", sep=\";\", encoding=\"ISO-8859-1\", low_memory=True, usecols = colunas_para_o_projeto)\n",
    "df.rename(columns={\"QT_VOTOS_NOMINAIS\":\"QT_VOTOS\"}, inplace=True)\n",
    "\n",
    "dados_ajustados = df.groupby([\"NM_CANDIDATO\", \"NR_TURNO\", \"ANO_ELEICAO\"]).sum()\n",
    "dados_ajustados.reset_index(inplace=True)\n",
    "dados_ajustados.drop_duplicates([\"NM_CANDIDATO\", \"NR_TURNO\", \"ANO_ELEICAO\"], inplace=True, keep=\"first\")\n",
    "\n",
    "dados_ajustados.to_csv(\"/home/sposigor/Downloads/TSE/resultado/dados_tratados/2008.csv\", sep=\";\", index=False)"
   ]
  },
  {
   "cell_type": "code",
   "execution_count": 13,
   "metadata": {},
   "outputs": [],
   "source": [
    "# Arquivos csv originais do TSE nos anos das eleições municipais são muito pesados para meu note roda em um laço\n",
    "# Optei em ajustar um por um para reduzir a quantidade de colunas e reduzir o tamanho dos arquivos\n",
    "# A partir de 2010 o TSE adicionou novos dados a estrutura e padronizou a formatação dos arquivos\n",
    "\n",
    "colunas_para_o_projeto = [\"ANO_ELEICAO\", \"NR_TURNO\", \"NM_CANDIDATO\", \"QT_VOTOS_NOMINAIS\"]\n",
    "\n",
    "df = pd.read_csv(r\"/home/sposigor/Downloads/TSE/resultado/dados_sem_tratamento/2020.csv\", sep=\";\", encoding=\"ISO-8859-1\", low_memory=True, usecols = colunas_para_o_projeto)\n",
    "df.rename(columns={\"QT_VOTOS_NOMINAIS\":\"QT_VOTOS\"}, inplace=True)\n",
    "\n",
    "dados_ajustados = df.groupby([\"NM_CANDIDATO\", \"NR_TURNO\", \"ANO_ELEICAO\"]).sum()\n",
    "dados_ajustados.reset_index(inplace=True)\n",
    "dados_ajustados.drop_duplicates([\"NM_CANDIDATO\", \"NR_TURNO\", \"ANO_ELEICAO\"], inplace=True, keep=\"first\")\n",
    "\n",
    "dados_ajustados.to_csv(\"/home/sposigor/Downloads/TSE/resultado/dados_tratados/2020.csv\", sep=\";\", index=False)"
   ]
  },
  {
   "cell_type": "code",
   "execution_count": 14,
   "metadata": {},
   "outputs": [],
   "source": [
    "# Vamos ajustar os dados para somar os resultados por turno e nome e salvar no mesmo csv com os dados consolidados\n",
    "\n",
    "path = r\"/home/sposigor/Downloads/TSE/resultado/dados_tratados\"\n",
    "todos_arquivos = glob.glob(path + \"/*.csv\")\n",
    "\n",
    "arquivos = []\n",
    "\n",
    "for arq in todos_arquivos:\n",
    "        df = pd.read_csv(arq, sep=\";\", encoding=\"ISO-8859-1\")\n",
    "        arquivos.append(dados_ajustados)\n",
    "\n",
    "arquivo_completo = pd.concat(arquivos, axis=0, ignore_index=True)\n",
    "\n",
    "arquivo_completo.to_csv(\"/home/sposigor/Downloads/TSE/resultado/dados_tratados/consolidado.csv\", sep=\";\", index=False)"
   ]
  },
  {
   "cell_type": "code",
   "execution_count": 3,
   "metadata": {},
   "outputs": [
    {
     "name": "stderr",
     "output_type": "stream",
     "text": [
      "/tmp/ipykernel_11422/4001100588.py:1: DtypeWarning: Columns (1,2,3) have mixed types. Specify dtype option on import or set low_memory=False.\n",
      "  df = pd.read_csv(\"/home/sposigor/Downloads/TSE/resultado/dados_tratados/consolidado.csv\", sep=\";\")\n"
     ]
    }
   ],
   "source": [
    "df = pd.read_csv(\"/home/sposigor/Downloads/TSE/resultado/dados_tratados/consolidado.csv\", sep=\";\")"
   ]
  },
  {
   "cell_type": "code",
   "execution_count": null,
   "metadata": {},
   "outputs": [],
   "source": []
  }
 ],
 "metadata": {
  "interpreter": {
   "hash": "9df91769fbae1ccc10c67398c31cdf5517c78aac96d0071e53bc9d547a05fa72"
  },
  "kernelspec": {
   "display_name": "Python 3.10.2 ('eleicoes-4DOkQnK4-py3.10')",
   "language": "python",
   "name": "python3"
  },
  "language_info": {
   "codemirror_mode": {
    "name": "ipython",
    "version": 3
   },
   "file_extension": ".py",
   "mimetype": "text/x-python",
   "name": "python",
   "nbconvert_exporter": "python",
   "pygments_lexer": "ipython3",
   "version": "3.10.2"
  },
  "orig_nbformat": 4
 },
 "nbformat": 4,
 "nbformat_minor": 2
}
