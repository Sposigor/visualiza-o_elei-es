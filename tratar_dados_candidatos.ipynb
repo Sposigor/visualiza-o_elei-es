{
 "cells": [
  {
   "cell_type": "markdown",
   "metadata": {},
   "source": [
    "## Tratar os dados do TSE dos candidatos\n",
    "\n",
    "### fonte: https://dadosabertos.tse.jus.br/dataset/?groups=candidatos\n",
    "\n",
    "* Usei os dados a partir de 1988 até 2020."
   ]
  },
  {
   "cell_type": "code",
   "execution_count": 1,
   "metadata": {},
   "outputs": [],
   "source": [
    "import pandas as pd\n",
    "import glob"
   ]
  },
  {
   "cell_type": "code",
   "execution_count": 8,
   "metadata": {},
   "outputs": [],
   "source": [
    "# Arquivos csv originais do TSE nos anos das eleições municipais são muito pesados para meu note roda em um laço\n",
    "# Vamos separar os anos para facilitar na leitura também, vou dividir em eleições municipais e federais\n",
    "# Anos federais 1998, 2002, 2006, 2010, 2014, 2018\n",
    "\n",
    "colunas_para_o_projeto_federal = [\"ANO_ELEICAO\", \"NR_TURNO\", \"SG_UF\", \"DS_CARGO\", \"NM_CANDIDATO\", \"SG_PARTIDO\", \"NM_PARTIDO\",\n",
    "                            \"DT_NASCIMENTO\", \"DS_GENERO\", \"DS_GRAU_INSTRUCAO\", \"DS_COR_RACA\", \"DS_SIT_TOT_TURNO\"]\n",
    "\n",
    "\n",
    "df = pd.read_csv(r\"/home/sposigor/Downloads/TSE/candidatos/dados_nao_tratados/2018.csv\", sep=\";\", encoding=\"ISO-8859-1\", low_memory=False, usecols = colunas_para_o_projeto_federal)\n",
    "\n",
    "df.to_csv(\"/home/sposigor/Downloads/TSE/candidatos/dados_tratados/2018.csv\", sep=\";\", index=False)"
   ]
  },
  {
   "cell_type": "code",
   "execution_count": 20,
   "metadata": {},
   "outputs": [],
   "source": [
    "# Anos municipias 2000, 2004, 2008, 2012, 2016, 2020\n",
    "# A diferença é somente a coluna de de NM_UE que indica o municipio\n",
    "\n",
    "colunas_para_o_projeto_municipal = [\"ANO_ELEICAO\", \"NR_TURNO\", \"SG_UF\", \"NM_UE\", \"DS_CARGO\", \"NM_CANDIDATO\", \"SG_PARTIDO\", \"NM_PARTIDO\",\n",
    "                            \"DT_NASCIMENTO\", \"DS_GENERO\", \"DS_GRAU_INSTRUCAO\", \"DS_COR_RACA\", \"DS_SIT_TOT_TURNO\"]\n",
    "\n",
    "df = pd.read_csv(r\"/home/sposigor/Downloads/TSE/candidatos/dados_nao_tratados/2020.csv\", sep=\";\", encoding=\"ISO-8859-1\", low_memory=False, usecols = colunas_para_o_projeto_municipal)\n",
    "\n",
    "\n",
    "df.to_csv(\"/home/sposigor/Downloads/TSE/candidatos/dados_tratados/2020.csv\", sep=\";\", index=False)"
   ]
  },
  {
   "cell_type": "code",
   "execution_count": 4,
   "metadata": {},
   "outputs": [],
   "source": [
    "# Vamos mesclar os csv em um unico para trabalhar com ele\n",
    "\n",
    "path = r\"/home/sposigor/Downloads/TSE/candidatos/dados_tratados/federal\"\n",
    "todos_arquivos = glob.glob(path + \"/*.csv\")\n",
    "\n",
    "arquivos = []\n",
    "\n",
    "for arq in todos_arquivos:\n",
    "        df = pd.read_csv(arq, sep=\";\")\n",
    "        arquivos.append(df)\n",
    "\n",
    "arquivo_completo = pd.concat(arquivos, axis=0, ignore_index=True)\n",
    "\n",
    "arquivo_completo.to_csv(\"/home/sposigor/Downloads/TSE/resultado/dados_tratados/consolidado_federal.csv\", sep=\";\", index=False)"
   ]
  },
  {
   "cell_type": "code",
   "execution_count": null,
   "metadata": {},
   "outputs": [],
   "source": [
    "# Vamos mesclar os csv em um unico para trabalhar com ele\n",
    "\n",
    "path = r\"/home/sposigor/Downloads/TSE/candidatos/dados_tratados/municipal\"\n",
    "todos_arquivos = glob.glob(path + \"/*.csv\")\n",
    "\n",
    "arquivos = []\n",
    "\n",
    "for arq in todos_arquivos:\n",
    "        df = pd.read_csv(arq, sep=\";\")\n",
    "        arquivos.append(df)\n",
    "\n",
    "arquivo_completo = pd.concat(arquivos, axis=0, ignore_index=True)\n",
    "\n",
    "arquivo_completo.to_csv(\"/home/sposigor/Downloads/TSE/candidatos/dados_tratados/consolidado_municipal.csv\", sep=\";\", index=False)"
   ]
  },
  {
   "cell_type": "code",
   "execution_count": 24,
   "metadata": {},
   "outputs": [],
   "source": [
    "df = pd.read_csv(r\"/home/sposigor/Downloads/TSE/candidatos/dados_tratados/consolidado_federal.csv\", sep=\";\", encoding=\"ISO-8859-1\", low_memory=False)"
   ]
  },
  {
   "cell_type": "code",
   "execution_count": 25,
   "metadata": {},
   "outputs": [
    {
     "data": {
      "text/plain": [
       "array(['NAO INFORMADO', 'PRETA', 'BRANCA', 'PARDA', 'INDIGENA', 'AMARELA'],\n",
       "      dtype=object)"
      ]
     },
     "execution_count": 25,
     "metadata": {},
     "output_type": "execute_result"
    }
   ],
   "source": [
    "lista_mudar_descricao = [\"#NE#\", \"#NE\", \"NAO DIVULGAVEL\"]\n",
    "\n",
    "for x in lista_mudar_descricao:\n",
    "    df.loc[df[\"DS_COR_RACA\"] == x, \"DS_COR_RACA\"] = \"NAO INFORMADO\"\n",
    "\n",
    "df.DS_COR_RACA.unique()"
   ]
  },
  {
   "cell_type": "code",
   "execution_count": 26,
   "metadata": {},
   "outputs": [
    {
     "data": {
      "text/plain": [
       "array(['DEPUTADO ESTADUAL', 'DEPUTADO FEDERAL', 'SENADOR',\n",
       "       'DEPUTADO DISTRITAL', 'GOVERNADOR', 'PRESIDENTE'], dtype=object)"
      ]
     },
     "execution_count": 26,
     "metadata": {},
     "output_type": "execute_result"
    }
   ],
   "source": [
    "lista_drop_cargo = [\"1Âº SUPLENTE SENADOR\", \"2Âº SUPLENTE SENADOR\", \"2Âº SUPLENTE\", \"1Âº SUPLENTE\", \"VICE-PRESIDENTE\", \"VICE-GOVERNADOR\"]\n",
    "for x in lista_drop_cargo:\n",
    "    drop_cargos = df[df[\"DS_CARGO\"] == x].index\n",
    "    df.drop(drop_cargos, inplace=True)\n",
    "df.loc[df[\"DS_CARGO\"] == \"DEPUTADO DISTRITAL\", \"DS_CARGO\"] = \"DEPUTADO ESTADUAL\"\n",
    "df.DS_CARGO.unique()"
   ]
  },
  {
   "cell_type": "code",
   "execution_count": 1,
   "metadata": {},
   "outputs": [
    {
     "ename": "NameError",
     "evalue": "name 'df' is not defined",
     "output_type": "error",
     "traceback": [
      "\u001b[0;31m---------------------------------------------------------------------------\u001b[0m",
      "\u001b[0;31mNameError\u001b[0m                                 Traceback (most recent call last)",
      "\u001b[1;32m/home/sposigor/Desktop/eleicoes/tratar_dados_candidatos.ipynb Cell 10'\u001b[0m in \u001b[0;36m<module>\u001b[0;34m\u001b[0m\n\u001b[0;32m----> <a href='vscode-notebook-cell:/home/sposigor/Desktop/eleicoes/tratar_dados_candidatos.ipynb#ch0000009?line=0'>1</a>\u001b[0m df\u001b[39m.\u001b[39mhead()\n",
      "\u001b[0;31mNameError\u001b[0m: name 'df' is not defined"
     ]
    }
   ],
   "source": [
    "df.head()"
   ]
  },
  {
   "cell_type": "code",
   "execution_count": null,
   "metadata": {},
   "outputs": [],
   "source": []
  }
 ],
 "metadata": {
  "interpreter": {
   "hash": "9df91769fbae1ccc10c67398c31cdf5517c78aac96d0071e53bc9d547a05fa72"
  },
  "kernelspec": {
   "display_name": "Python 3.10.2 ('eleicoes-4DOkQnK4-py3.10')",
   "language": "python",
   "name": "python3"
  },
  "language_info": {
   "codemirror_mode": {
    "name": "ipython",
    "version": 3
   },
   "file_extension": ".py",
   "mimetype": "text/x-python",
   "name": "python",
   "nbconvert_exporter": "python",
   "pygments_lexer": "ipython3",
   "version": "3.10.2"
  },
  "orig_nbformat": 4
 },
 "nbformat": 4,
 "nbformat_minor": 2
}
