{
 "cells": [
  {
   "cell_type": "markdown",
   "metadata": {},
   "source": [
    "## Unir as bases para forma a informação alvo\n",
    "\n",
    "### pandas: vamos usar o merge para unir as bases com os dados de interesse\n"
   ]
  },
  {
   "cell_type": "code",
   "execution_count": 2,
   "metadata": {},
   "outputs": [],
   "source": [
    "import pandas as pd\n",
    "import glob"
   ]
  },
  {
   "cell_type": "code",
   "execution_count": 3,
   "metadata": {},
   "outputs": [
    {
     "name": "stderr",
     "output_type": "stream",
     "text": [
      "/tmp/ipykernel_11421/2193985865.py:2: DtypeWarning: Columns (1,2,3) have mixed types. Specify dtype option on import or set low_memory=False.\n",
      "  df_votos = pd.read_csv(r\"/home/sposigor/Downloads/TSE/resultado/dados_tratados/consolidado.csv\", sep=';')\n"
     ]
    }
   ],
   "source": [
    "df_candidado_federal = pd.read_csv(r\"/home/sposigor/Downloads/TSE/candidatos/dados_tratados/consolidado_federal.csv\", sep=\";\")\n",
    "df_votos = pd.read_csv(r\"/home/sposigor/Downloads/TSE/resultado/dados_tratados/consolidado.csv\", sep=';')"
   ]
  },
  {
   "cell_type": "code",
   "execution_count": 4,
   "metadata": {},
   "outputs": [],
   "source": [
    "teste = pd.merge(df_candidado_federal, df_votos, on=[\"ANO_ELEICAO\", \"NR_TURNO\", \"NM_CANDIDATO\"], how=\"left\")"
   ]
  },
  {
   "cell_type": "code",
   "execution_count": null,
   "metadata": {},
   "outputs": [],
   "source": [
    "\n",
    "teste.to_csv(\"/home/sposigor/Downloads/TSE/bancoT.csv\", sep=\";\", index=False)"
   ]
  },
  {
   "cell_type": "code",
   "execution_count": null,
   "metadata": {},
   "outputs": [],
   "source": []
  }
 ],
 "metadata": {
  "interpreter": {
   "hash": "9df91769fbae1ccc10c67398c31cdf5517c78aac96d0071e53bc9d547a05fa72"
  },
  "kernelspec": {
   "display_name": "Python 3.10.2 ('eleicoes-4DOkQnK4-py3.10')",
   "language": "python",
   "name": "python3"
  },
  "language_info": {
   "codemirror_mode": {
    "name": "ipython",
    "version": 3
   },
   "file_extension": ".py",
   "mimetype": "text/x-python",
   "name": "python",
   "nbconvert_exporter": "python",
   "pygments_lexer": "ipython3",
   "version": "3.10.2"
  },
  "orig_nbformat": 4
 },
 "nbformat": 4,
 "nbformat_minor": 2
}
